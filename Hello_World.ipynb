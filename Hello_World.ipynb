{
  "cells": [
    {
      "cell_type": "markdown",
      "metadata": {
        "id": "view-in-github",
        "colab_type": "text"
      },
      "source": [
        "<a href=\"https://colab.research.google.com/github/ramaanjali/Fmml-labs/blob/main/Hello_World.ipynb\" target=\"_parent\"><img src=\"https://colab.research.google.com/assets/colab-badge.svg\" alt=\"Open In Colab\"/></a>"
      ]
    },
    {
      "cell_type": "code",
      "execution_count": null,
      "metadata": {
        "colab": {
          "base_uri": "https://localhost:8080/"
        },
        "id": "QaEecX47y0w9",
        "outputId": "84f67ec9-3068-41f0-ca9f-a796a5093996"
      },
      "outputs": [
        {
          "name": "stdout",
          "output_type": "stream",
          "text": [
            "Hello World\n"
          ]
        }
      ],
      "source": [
        "\n",
        "n=\"Hello World\"\n",
        "print(n)"
      ]
    },
    {
      "cell_type": "code",
      "source": [
        "conditional"
      ],
      "metadata": {
        "id": "D2xjlaiDJAOu"
      },
      "execution_count": null,
      "outputs": []
    },
    {
      "cell_type": "code",
      "execution_count": null,
      "metadata": {
        "colab": {
          "base_uri": "https://localhost:8080/"
        },
        "id": "1LN8N1amzfPa",
        "outputId": "32122735-3809-48f3-a4ad-8e0836c60ea1"
      },
      "outputs": [
        {
          "name": "stdout",
          "output_type": "stream",
          "text": [
            "enter an integer6\n",
            "even\n"
          ]
        }
      ],
      "source": [
        "n=int(input(\"enter an integer\"))\n",
        "if(n%2==0):\n",
        "  print(\"even\")\n",
        "else:\n",
        "    print(\"odd\")"
      ]
    },
    {
      "cell_type": "code",
      "execution_count": null,
      "metadata": {
        "colab": {
          "base_uri": "https://localhost:8080/"
        },
        "id": "OzJKS1kf17pI",
        "outputId": "44a00254-8189-42cd-fa3a-586c032097f1"
      },
      "outputs": [
        {
          "name": "stdout",
          "output_type": "stream",
          "text": [
            "enter a integer8\n",
            "postive\n",
            "zero\n"
          ]
        }
      ],
      "source": [
        "n=int(input(\"enter a integer\"))\n",
        "if(0<n):\n",
        "  print(\"postive\")\n",
        "  if(n<0):\n",
        "    print(\"negative\")\n",
        "  else:\n",
        "    print(\"zero\")\n",
        "\n"
      ]
    },
    {
      "cell_type": "code",
      "source": [
        "wrd='This is Ramaanjali from CAI'\n",
        "print(wrd[:])\n",
        "print(wrd[0:15:4])\n",
        "print(wrd[0:6:1])\n",
        "print(wrd[0:22:2])\n",
        "print(wrd[3:23:4])"
      ],
      "metadata": {
        "colab": {
          "base_uri": "https://localhost:8080/"
        },
        "id": "QgmQW4QEG4L0",
        "outputId": "08f48543-aab3-4655-e78c-358790ccde7e"
      },
      "execution_count": null,
      "outputs": [
        {
          "output_type": "stream",
          "name": "stdout",
          "text": [
            "This is Ramaanjali from CAI\n",
            "T Ra\n",
            "This i\n",
            "Ti sRmajl r\n",
            "s aaf\n"
          ]
        }
      ]
    },
    {
      "cell_type": "code",
      "execution_count": null,
      "metadata": {
        "colab": {
          "base_uri": "https://localhost:8080/"
        },
        "id": "rgptn1tj79e-",
        "outputId": "8784835b-1330-4065-efc4-d1586985f472"
      },
      "outputs": [
        {
          "output_type": "stream",
          "name": "stdout",
          "text": [
            "enter a integer6\n",
            "wierd\n"
          ]
        }
      ],
      "source": [
        "n=int(input(\"enter a integer\"))\n",
        "if(n%2!=0):\n",
        "  print(\"wierd\")\n",
        "elif(2<=n<=5):\n",
        "    print(\"not wierd\")\n",
        "elif(6<=n<=20):\n",
        "      print(\"wierd\")\n",
        "\n"
      ]
    },
    {
      "cell_type": "code",
      "source": [
        "n=int(input(\"enter a integer:\"))\n",
        "if(40<=n<=50):\n",
        "        print(\" very best score of the class\")\n",
        "elif(30<=n<=39):\n",
        "        print(\" good score of the class \")\n",
        "elif(20<=n<=29):\n",
        "        print(\" average score of the class\")\n",
        "elif(10<=n<=19):\n",
        "         print(\" bad score of the class\")\n",
        "elif(0<=n<=9):\n",
        "         print(\" very bad score of the class\")\n",
        "\n",
        "\n"
      ],
      "metadata": {
        "id": "fRAywGwgUhSc",
        "colab": {
          "base_uri": "https://localhost:8080/"
        },
        "outputId": "16e2d83c-b28f-4c3e-e635-3ae2eec5ef65"
      },
      "execution_count": null,
      "outputs": [
        {
          "output_type": "stream",
          "name": "stdout",
          "text": [
            "enter a integer:23\n",
            " average score of the class\n"
          ]
        }
      ]
    },
    {
      "cell_type": "code",
      "source": [
        "v=input(\"enter a variable:\")\n",
        "if v==\"a\":\n",
        "  print(\"this is a vowel\")\n",
        "elif(v==\"e\"):\n",
        "  print(\"this a vowel\")\n",
        "elif(v==\"i\"):\n",
        "  print(\"this is a vowel\")\n",
        "elif(v==\"o\"):\n",
        "  print(\"this is a vowel\")\n",
        "elif(v==\"u\"):\n",
        "   print(\"this a vowel\")\n",
        "else:\n",
        "   print(\"this is a consant\")\n"
      ],
      "metadata": {
        "id": "sci8RaU6iAS0"
      },
      "execution_count": null,
      "outputs": []
    },
    {
      "cell_type": "code",
      "source": [
        "n=int(input(\"enter a integer:\"))\n",
        "square=n*n\n",
        "print(square)\n",
        "\n"
      ],
      "metadata": {
        "colab": {
          "base_uri": "https://localhost:8080/"
        },
        "id": "iXjSW2PI-S_x",
        "outputId": "5a1ff747-3cda-4590-8017-8a1674d36e6f"
      },
      "execution_count": null,
      "outputs": [
        {
          "output_type": "stream",
          "name": "stdout",
          "text": [
            "enter a integer:3\n",
            "9\n"
          ]
        }
      ]
    },
    {
      "cell_type": "code",
      "source": [
        "n=int(input(\"enter a integer:\"))\n",
        "cube=n*n*n\n",
        "print(cube)"
      ],
      "metadata": {
        "colab": {
          "base_uri": "https://localhost:8080/"
        },
        "id": "ALCyUlwtCmEB",
        "outputId": "5f9271a1-313c-4c00-c7d6-ba2efff45d7f"
      },
      "execution_count": null,
      "outputs": [
        {
          "output_type": "stream",
          "name": "stdout",
          "text": [
            "enter a integer:8\n",
            "512\n"
          ]
        }
      ]
    },
    {
      "cell_type": "code",
      "source": [
        "\n",
        "a=int(input(\"enter a integer:\"))\n",
        "b=int(input(\"enter a integer:\"))\n",
        "sum=a+b\n",
        "print(sum)\n",
        "sub=a-b\n",
        "print(sub)\n",
        "mul=a*b\n",
        "print(mul)\n",
        "div=a/b\n",
        "print(div)\n",
        "mod=(a%b)\n",
        "print(mod)\n"
      ],
      "metadata": {
        "colab": {
          "base_uri": "https://localhost:8080/"
        },
        "id": "OptfI3T0DKd0",
        "outputId": "22ddf507-6402-4d82-8d15-438cc9719f13"
      },
      "execution_count": null,
      "outputs": [
        {
          "output_type": "stream",
          "name": "stdout",
          "text": [
            "enter a integer:8\n",
            "enter a integer:2\n",
            "10\n",
            "6\n",
            "16\n",
            "4.0\n",
            "0\n"
          ]
        }
      ]
    },
    {
      "cell_type": "code",
      "source": [
        "num=int(input(\"enter a number\"))\n",
        "if num==1:\n",
        "  print(\"sunday\")\n",
        "elif  num==2:\n",
        "  print(\"monday\")\n",
        "elif  num==3:\n",
        "  print(\"tuesday\")\n",
        "elif  num==4:\n",
        "  print(\"wednesday\")\n",
        "elif  num==5:\n",
        "   print(\"thursday\")\n",
        "elif num==6:\n",
        "   print(\"friday\")\n",
        "elif num==7:\n",
        "   print(\"saturday\")\n",
        "else:\n",
        "   print(\"invalid\")"
      ],
      "metadata": {
        "colab": {
          "base_uri": "https://localhost:8080/"
        },
        "id": "nKdqFuLQKh3T",
        "outputId": "7dd893b5-719b-47ec-e59d-999a3b4b91ce"
      },
      "execution_count": null,
      "outputs": [
        {
          "name": "stdout",
          "output_type": "stream",
          "text": [
            "enter a number5\n"
          ]
        }
      ]
    },
    {
      "cell_type": "code",
      "source": [
        "num=6\n",
        "print(\"num=\",num)\n",
        "if(n%2==0):\n",
        "  if(n%3==0):\n",
        "    print(\"divisible by 3 and  divisible by 2\")\n",
        "  else:\n",
        "    print(\"divisible by 2 and not divisible by 3\")\n",
        "else:\n",
        "   if(num%3==0):\n",
        "    print(\" not divisible by 3 and not divisible by 2\")\n",
        "   else:\n",
        "    print(\"not divisible by 2 and divisible by 3\")\n",
        "\n"
      ],
      "metadata": {
        "colab": {
          "base_uri": "https://localhost:8080/"
        },
        "id": "8fj9iR8aj79B",
        "outputId": "88e44855-c8c2-4741-8977-0c1704032e72"
      },
      "execution_count": 25,
      "outputs": [
        {
          "output_type": "stream",
          "name": "stdout",
          "text": [
            "num= 6\n",
            "divisible by 3 and  divisible by 2\n"
          ]
        }
      ]
    }
  ],
  "metadata": {
    "colab": {
      "provenance": [],
      "authorship_tag": "ABX9TyOIss++eRWwxQc+tOvGOPpA",
      "include_colab_link": true
    },
    "kernelspec": {
      "display_name": "Python 3",
      "name": "python3"
    },
    "language_info": {
      "name": "python"
    }
  },
  "nbformat": 4,
  "nbformat_minor": 0
}